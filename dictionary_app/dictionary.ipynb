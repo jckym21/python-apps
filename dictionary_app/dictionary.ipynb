{
 "cells": [
  {
   "cell_type": "markdown",
   "id": "worth-excellence",
   "metadata": {},
   "source": [
    "## Dictionary App"
   ]
  },
  {
   "cell_type": "markdown",
   "id": "sixth-group",
   "metadata": {},
   "source": [
    "###### This dictionary app outputs the meaning of a word user inputs."
   ]
  },
  {
   "cell_type": "code",
   "execution_count": 1,
   "id": "literary-asian",
   "metadata": {},
   "outputs": [],
   "source": [
    "import json\n",
    "from difflib import get_close_matches\n",
    "\n",
    "def translate (word, dic):\n",
    "    if word.lower() in dic:    #Check words with all lower cases\n",
    "        return (dic[word.lower()])\n",
    "    elif word.title() in dic:  #Check words begins with capitals\n",
    "        return (dic[word.title()])\n",
    "    elif word.upper() in dic:  #Check words with all capitals (i.e. USA)\n",
    "        return (dic[word.upper()])\n",
    "    elif len(w:=get_close_matches(word, dic.keys())) > 0:   #Suggests closest words\n",
    "        confirmation = input (\"Do you mean the word \\\"%s\\\" instead? [y/n] \" % w[0])\n",
    "        if confirmation.lower() == 'y':\n",
    "            return (dic[w[0]])\n",
    "        elif confirmation.lower() == 'n':\n",
    "            return \"The word was not found in dictionary! Please double check spelling.\"\n",
    "        else:\n",
    "            return \"Sorry, we didn't understand your entry.\"\n",
    "    else:\n",
    "        return \"The word was not found in dictionary! Please double check spelling.\""
   ]
  },
  {
   "cell_type": "code",
   "execution_count": 2,
   "id": "future-liability",
   "metadata": {},
   "outputs": [
    {
     "name": "stdout",
     "output_type": "stream",
     "text": [
      "Enter a word: hel\n",
      "Do you mean the word \"help\" instead? [y/n] y\n",
      "[1] Action given to provide assistance.\n",
      "[2] A person or persons who provide assistance with some task.\n",
      "[3] To give assistance or aid to.\n",
      "[4] To be of use or help.\n",
      "[5] To improve the condition of.\n",
      "[6] To abstain from doing; always used with a negative.\n"
     ]
    }
   ],
   "source": [
    "#Load json dictionary\n",
    "with open('data.json', 'r') as f:\n",
    "    dic = json.loads(f.read())    #Load dictionary from json file\n",
    "    \n",
    "word = input('Enter a word: ')\n",
    "\n",
    "response = translate(word, dic)\n",
    "if type(response) == list:\n",
    "    for i in range(len(response)):\n",
    "        print (\"[%s] %s\" %(i+1, response[i]))   #Output all definitions\n",
    "else:\n",
    "    print (response)   #Error messages"
   ]
  }
 ],
 "metadata": {
  "kernelspec": {
   "display_name": "Python 3",
   "language": "python",
   "name": "python3"
  },
  "language_info": {
   "codemirror_mode": {
    "name": "ipython",
    "version": 3
   },
   "file_extension": ".py",
   "mimetype": "text/x-python",
   "name": "python",
   "nbconvert_exporter": "python",
   "pygments_lexer": "ipython3",
   "version": "3.9.1"
  }
 },
 "nbformat": 4,
 "nbformat_minor": 5
}
