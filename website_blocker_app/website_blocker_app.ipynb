{
 "cells": [
  {
   "cell_type": "markdown",
   "id": "northern-sheet",
   "metadata": {},
   "source": [
    "## Web Site Blocker App"
   ]
  },
  {
   "cell_type": "markdown",
   "id": "spare-winning",
   "metadata": {},
   "source": [
    "This app blocks selected web sites for a period of time by redirecting the IP addresss in the system host file.\n",
    "This app runs continuously in the system background. The app redirects the web sites for blocking within a \n",
    "selected work hour by adding a redirect IP address 127.0.0.1 for the web sites in the host file. The app removes \n",
    "the IP address redirection in the host file during the non-working hours. "
   ]
  },
  {
   "cell_type": "code",
   "execution_count": 1,
   "id": "practical-grove",
   "metadata": {},
   "outputs": [],
   "source": [
    "from time import sleep\n",
    "import datetime as dt\n",
    "from re import search"
   ]
  },
  {
   "cell_type": "code",
   "execution_count": 2,
   "id": "national-noise",
   "metadata": {},
   "outputs": [],
   "source": [
    "host_path = r\"C:\\Windows\\System32\\drivers\\etc\\hosts\"\n",
    "test_path = r\"C:\\Users\\Jacky Mak\\Documents\\Git\\website_blocker_app\\hosts\"\n",
    "path = test_path\n",
    "\n",
    "redirect = \"127.0.0.1\"\n",
    "website = [\"www.facebook.com\", \"facebook.com\"]\n",
    "start_hour = 9  #Block starting hour \n",
    "end_hour = 10   #Blcok ending hour (Need to be greater than starting hour!)"
   ]
  },
  {
   "cell_type": "code",
   "execution_count": null,
   "id": "specific-juvenile",
   "metadata": {},
   "outputs": [
    {
     "name": "stdout",
     "output_type": "stream",
     "text": [
      "Personal time!\n",
      "Transition in ~22 hours 34 minutes and 44 seconds.\n",
      "\n"
     ]
    }
   ],
   "source": [
    "while True:\n",
    "    current = dt.datetime.now()  #Current time\n",
    "    start_time = dt.datetime(current.year, current.month, current.day, start_hour) #Block start time\n",
    "    end_time = dt.datetime(current.year, current.month, current.day, end_hour)  #Block end time\n",
    "\n",
    "    if start_time <= current < end_time:\n",
    "        print (\"Work time!\")\n",
    "        with open(path, 'r+') as f:\n",
    "            content = f.read()\n",
    "            \n",
    "            #Write link to file if not exist\n",
    "            for link in website: \n",
    "                if search(r'\\b' + link + r'\\b', content) is None:\n",
    "                    f.write(\"\\n\" + redirect + \" \" + link)\n",
    "              \n",
    "        delta = (end_time - current).total_seconds()\n",
    "        \n",
    "    else:\n",
    "        print (\"Personal time!\")\n",
    "        with open(path, 'r+') as f:\n",
    "            content = f.readlines()\n",
    "            f.seek(0)\n",
    "            for line in content:\n",
    "               if all(search(r'\\b' + link + r'\\b', line) is None for link in website):\n",
    "                    f.write(line)\n",
    "            f.truncate()\n",
    "        \n",
    "        if current.hour >= end_hour:\n",
    "            delta = (dt.datetime(current.year, current.month, current.day+1, start_hour) - current).total_seconds()\n",
    "        else:\n",
    "            delta = (dt.datetime(current.year, current.month, current.day, start_hour) - current).total_seconds()\n",
    "    \n",
    "    print (\"Transition in ~\" + str(int(delta/3600)) + \" hours \" + str(int(delta%3600/60)) + \" minutes and \"\n",
    "          + str(int(delta%60)) + \" seconds.\\n\")\n",
    "    sleep(delta)"
   ]
  }
 ],
 "metadata": {
  "kernelspec": {
   "display_name": "Python 3",
   "language": "python",
   "name": "python3"
  },
  "language_info": {
   "codemirror_mode": {
    "name": "ipython",
    "version": 3
   },
   "file_extension": ".py",
   "mimetype": "text/x-python",
   "name": "python",
   "nbconvert_exporter": "python",
   "pygments_lexer": "ipython3",
   "version": "3.9.1"
  }
 },
 "nbformat": 4,
 "nbformat_minor": 5
}
